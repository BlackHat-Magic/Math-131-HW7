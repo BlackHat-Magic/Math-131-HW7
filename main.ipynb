{
 "cells": [
  {
   "cell_type": "code",
   "execution_count": 1,
   "id": "6e7ae13e-0e2f-41a1-9a26-eb0100ee3e65",
   "metadata": {},
   "outputs": [],
   "source": [
    "import numpy as np"
   ]
  },
  {
   "cell_type": "markdown",
   "id": "8135417a-7eb0-4f24-bd9b-8d3a18e0c382",
   "metadata": {},
   "source": [
    "# Problem 4\n",
    "\n",
    "Write a function called `jacobi` that has as inputs an $n\\times n$ matrix, $A$, a column vector, $b$, an initial guess $x^(0)$, an error tolerance $\\epsilon$, and a maximum number of iterations, and as outputs an approximate solution obtained using the Jacobi method, the residual error and the number of iterations. Use the method to find approximate solutions to the linear system from problem 2 after you have made it diagonally dominant. If you chose not to complete problem 2, you may use the $5\\times 5$ matrix of your choice. Find the solution within an accuracy of $\\epsilon = 10^{-5}$, with a maximum of $N = 100$ iterations. If your method succeeds, report the number of iterations needed. If your method fails, offer a possible reason why."
   ]
  },
  {
   "cell_type": "code",
   "execution_count": 10,
   "id": "51a9f602-5f27-44b9-85c9-f2404836f9d5",
   "metadata": {},
   "outputs": [],
   "source": [
    "def jacobi(A, b, x0, epsilon, max_iterations):\n",
    "    n = len(A)\n",
    "    # initial guess\n",
    "    x = np.copy(x0)\n",
    "    # diagonal elements of A\n",
    "    D = np.diag(A)\n",
    "    # remainder of A (A - D)\n",
    "    R = A - np.diagflat(D)\n",
    "    \n",
    "    iterations = 0\n",
    "    for _ in range(max_iterations):\n",
    "        # Jacobi iteration formula\n",
    "        x_new = (b - np.dot(R, x)) / D \n",
    "        # residual error (infinity norm)\n",
    "        residual = np.linalg.norm(x_new - x, ord=np.inf)\n",
    "\n",
    "        # check for convergence\n",
    "        if(residual < epsilon):\n",
    "            break\n",
    "            \n",
    "        x = x_new\n",
    "        iterations += 1\n",
    "    \n",
    "    # final residual error\n",
    "    final_residual = np.linalg.norm(np.dot(A, x) - b, ord=np.inf)\n",
    "    \n",
    "    return(x, final_residual, iterations)"
   ]
  },
  {
   "cell_type": "code",
   "execution_count": 9,
   "id": "10a8bf8c-e0c7-44fd-b5de-55f7adf1822c",
   "metadata": {},
   "outputs": [],
   "source": [
    "A = np.array([\n",
    "    [-7, -3, 0, 0, 0],\n",
    "    [1, 2, 0, 0, 0],\n",
    "    [0, 0, 10, 2, -2],\n",
    "    [0, 0, 2, -4, 0],\n",
    "    [0, 0, 0, 0, 1]\n",
    "])\n",
    "b = np.array([-7, -8, 3, 3, -5]).T"
   ]
  },
  {
   "cell_type": "code",
   "execution_count": 12,
   "id": "3304b66b-6c17-40e3-9463-cf9c037af3dd",
   "metadata": {},
   "outputs": [
    {
     "data": {
      "text/plain": [
       "(array([ 3.45453454, -5.72726505, -0.49999999, -1.        , -5.        ]),\n",
       " np.float64(5.33490878495968e-05),\n",
       " 17)"
      ]
     },
     "execution_count": 12,
     "metadata": {},
     "output_type": "execute_result"
    }
   ],
   "source": [
    "jacobi(A, b, np.zeros(5), 1e-5, 100)"
   ]
  },
  {
   "cell_type": "markdown",
   "id": "a95a985e-6b4a-4474-b341-d3633f74cc8a",
   "metadata": {},
   "source": [
    "It took 17 Iterations"
   ]
  },
  {
   "cell_type": "markdown",
   "id": "69abaa99-9a65-4429-b37d-4b8ad9448b06",
   "metadata": {},
   "source": [
    "# Problem 5\n",
    "\n",
    "Write a function called `gauss_seidel` that has as inputs an $n \\times n$ matrix, $A$, a column vector, $b$, an initial guess $x^{(0)}$, an error tolerance $\\epsilon$, and a maximum number of iterations, and as outputs an approximate solution obtained using the Gauss-Seidel method, the residual error and the number of iterations. Use the method to find approximate solutions to the linear system from the previous problem to within an accuracy of $\\epsilon = 10^{-5}$, with a maximum of $N = 100$ iterations. If your method succeeds, report the number of iterations needed. If your method fails, offer a possible reason why."
   ]
  },
  {
   "cell_type": "code",
   "execution_count": 19,
   "id": "ec44406b-ca63-40f1-a76d-a1f03efe880a",
   "metadata": {},
   "outputs": [],
   "source": [
    "def gauss_seidel(A, b, x0, epsilon, max_iterations):\n",
    "    n = len(A)\n",
    "    x = x0.copy()\n",
    "    \n",
    "    iterations = 0\n",
    "    for _ in range(max_iterations):\n",
    "        x_old = x.copy()\n",
    "        for i in range(n):\n",
    "            sigma = sum(A[i][j] * x[j] for j in range(n) if j != i)\n",
    "            x[i] = (b[i] - sigma) / A[i][i]\n",
    "        \n",
    "        # Calculate the residual error (L2 norm of difference between old and new x)\n",
    "        error = np.linalg.norm(x - x_old, ord=2)\n",
    "\n",
    "        iterations += 1\n",
    "        if(error < epsilon):\n",
    "            break\n",
    "    \n",
    "    return(x, error, iterations)"
   ]
  },
  {
   "cell_type": "code",
   "execution_count": 20,
   "id": "3fb4e7ae-8cf1-492b-9517-e44931ae0a1f",
   "metadata": {},
   "outputs": [
    {
     "data": {
      "text/plain": [
       "(array([ 3.45454312, -5.72727156, -0.5       , -1.        , -5.        ]),\n",
       " np.float64(9.585984359640419e-06),\n",
       " 10)"
      ]
     },
     "execution_count": 20,
     "metadata": {},
     "output_type": "execute_result"
    }
   ],
   "source": [
    "gauss_seidel(A, b, np.zeros(5), 1e-5, 100)"
   ]
  },
  {
   "cell_type": "markdown",
   "id": "cf8b7f81-2d70-4bb3-95f3-3c82270ed6a8",
   "metadata": {},
   "source": [
    "It converged in 10 iterations"
   ]
  },
  {
   "cell_type": "code",
   "execution_count": null,
   "id": "6273677d-bb6e-49d8-b419-260221ecf871",
   "metadata": {},
   "outputs": [],
   "source": []
  }
 ],
 "metadata": {
  "kernelspec": {
   "display_name": "Python 3 (ipykernel)",
   "language": "python",
   "name": "python3"
  },
  "language_info": {
   "codemirror_mode": {
    "name": "ipython",
    "version": 3
   },
   "file_extension": ".py",
   "mimetype": "text/x-python",
   "name": "python",
   "nbconvert_exporter": "python",
   "pygments_lexer": "ipython3",
   "version": "3.12.4"
  }
 },
 "nbformat": 4,
 "nbformat_minor": 5
}
